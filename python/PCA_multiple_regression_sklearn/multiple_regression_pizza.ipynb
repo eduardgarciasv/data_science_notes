{
 "cells": [
  {
   "cell_type": "markdown",
   "metadata": {},
   "source": [
    "# Multiple regression"
   ]
  },
  {
   "cell_type": "markdown",
   "metadata": {},
   "source": [
    "Suppose we want to predict the calory content of a pizza given its properties"
   ]
  },
  {
   "cell_type": "code",
   "execution_count": 3,
   "metadata": {},
   "outputs": [],
   "source": [
    "# Load libraries\n",
    "from sklearn import linear_model\n",
    "import pandas as pd"
   ]
  },
  {
   "cell_type": "code",
   "execution_count": 4,
   "metadata": {},
   "outputs": [
    {
     "data": {
      "text/html": [
       "<div>\n",
       "<style scoped>\n",
       "    .dataframe tbody tr th:only-of-type {\n",
       "        vertical-align: middle;\n",
       "    }\n",
       "\n",
       "    .dataframe tbody tr th {\n",
       "        vertical-align: top;\n",
       "    }\n",
       "\n",
       "    .dataframe thead th {\n",
       "        text-align: right;\n",
       "    }\n",
       "</style>\n",
       "<table border=\"1\" class=\"dataframe\">\n",
       "  <thead>\n",
       "    <tr style=\"text-align: right;\">\n",
       "      <th></th>\n",
       "      <th>brand</th>\n",
       "      <th>id</th>\n",
       "      <th>mois</th>\n",
       "      <th>prot</th>\n",
       "      <th>fat</th>\n",
       "      <th>ash</th>\n",
       "      <th>sodium</th>\n",
       "      <th>carb</th>\n",
       "      <th>cal</th>\n",
       "    </tr>\n",
       "  </thead>\n",
       "  <tbody>\n",
       "    <tr>\n",
       "      <th>0</th>\n",
       "      <td>A</td>\n",
       "      <td>14069</td>\n",
       "      <td>27.82</td>\n",
       "      <td>21.43</td>\n",
       "      <td>44.87</td>\n",
       "      <td>5.11</td>\n",
       "      <td>1.77</td>\n",
       "      <td>0.77</td>\n",
       "      <td>4.93</td>\n",
       "    </tr>\n",
       "    <tr>\n",
       "      <th>1</th>\n",
       "      <td>A</td>\n",
       "      <td>14053</td>\n",
       "      <td>28.49</td>\n",
       "      <td>21.26</td>\n",
       "      <td>43.89</td>\n",
       "      <td>5.34</td>\n",
       "      <td>1.79</td>\n",
       "      <td>1.02</td>\n",
       "      <td>4.84</td>\n",
       "    </tr>\n",
       "    <tr>\n",
       "      <th>2</th>\n",
       "      <td>A</td>\n",
       "      <td>14025</td>\n",
       "      <td>28.35</td>\n",
       "      <td>19.99</td>\n",
       "      <td>45.78</td>\n",
       "      <td>5.08</td>\n",
       "      <td>1.63</td>\n",
       "      <td>0.80</td>\n",
       "      <td>4.95</td>\n",
       "    </tr>\n",
       "    <tr>\n",
       "      <th>3</th>\n",
       "      <td>A</td>\n",
       "      <td>14016</td>\n",
       "      <td>30.55</td>\n",
       "      <td>20.15</td>\n",
       "      <td>43.13</td>\n",
       "      <td>4.79</td>\n",
       "      <td>1.61</td>\n",
       "      <td>1.38</td>\n",
       "      <td>4.74</td>\n",
       "    </tr>\n",
       "    <tr>\n",
       "      <th>4</th>\n",
       "      <td>A</td>\n",
       "      <td>14005</td>\n",
       "      <td>30.49</td>\n",
       "      <td>21.28</td>\n",
       "      <td>41.65</td>\n",
       "      <td>4.82</td>\n",
       "      <td>1.64</td>\n",
       "      <td>1.76</td>\n",
       "      <td>4.67</td>\n",
       "    </tr>\n",
       "    <tr>\n",
       "      <th>...</th>\n",
       "      <td>...</td>\n",
       "      <td>...</td>\n",
       "      <td>...</td>\n",
       "      <td>...</td>\n",
       "      <td>...</td>\n",
       "      <td>...</td>\n",
       "      <td>...</td>\n",
       "      <td>...</td>\n",
       "      <td>...</td>\n",
       "    </tr>\n",
       "    <tr>\n",
       "      <th>295</th>\n",
       "      <td>J</td>\n",
       "      <td>34044</td>\n",
       "      <td>44.91</td>\n",
       "      <td>11.07</td>\n",
       "      <td>17.00</td>\n",
       "      <td>2.49</td>\n",
       "      <td>0.66</td>\n",
       "      <td>25.36</td>\n",
       "      <td>2.91</td>\n",
       "    </tr>\n",
       "    <tr>\n",
       "      <th>296</th>\n",
       "      <td>J</td>\n",
       "      <td>24069</td>\n",
       "      <td>43.15</td>\n",
       "      <td>11.79</td>\n",
       "      <td>18.46</td>\n",
       "      <td>2.43</td>\n",
       "      <td>0.67</td>\n",
       "      <td>24.17</td>\n",
       "      <td>3.10</td>\n",
       "    </tr>\n",
       "    <tr>\n",
       "      <th>297</th>\n",
       "      <td>J</td>\n",
       "      <td>34039</td>\n",
       "      <td>44.55</td>\n",
       "      <td>11.01</td>\n",
       "      <td>16.03</td>\n",
       "      <td>2.43</td>\n",
       "      <td>0.64</td>\n",
       "      <td>25.98</td>\n",
       "      <td>2.92</td>\n",
       "    </tr>\n",
       "    <tr>\n",
       "      <th>298</th>\n",
       "      <td>J</td>\n",
       "      <td>14044</td>\n",
       "      <td>47.60</td>\n",
       "      <td>10.43</td>\n",
       "      <td>15.18</td>\n",
       "      <td>2.32</td>\n",
       "      <td>0.56</td>\n",
       "      <td>24.47</td>\n",
       "      <td>2.76</td>\n",
       "    </tr>\n",
       "    <tr>\n",
       "      <th>299</th>\n",
       "      <td>J</td>\n",
       "      <td>14045</td>\n",
       "      <td>46.84</td>\n",
       "      <td>9.91</td>\n",
       "      <td>15.50</td>\n",
       "      <td>2.27</td>\n",
       "      <td>0.57</td>\n",
       "      <td>25.48</td>\n",
       "      <td>2.81</td>\n",
       "    </tr>\n",
       "  </tbody>\n",
       "</table>\n",
       "<p>300 rows × 9 columns</p>\n",
       "</div>"
      ],
      "text/plain": [
       "    brand     id   mois   prot    fat   ash  sodium   carb   cal\n",
       "0       A  14069  27.82  21.43  44.87  5.11    1.77   0.77  4.93\n",
       "1       A  14053  28.49  21.26  43.89  5.34    1.79   1.02  4.84\n",
       "2       A  14025  28.35  19.99  45.78  5.08    1.63   0.80  4.95\n",
       "3       A  14016  30.55  20.15  43.13  4.79    1.61   1.38  4.74\n",
       "4       A  14005  30.49  21.28  41.65  4.82    1.64   1.76  4.67\n",
       "..    ...    ...    ...    ...    ...   ...     ...    ...   ...\n",
       "295     J  34044  44.91  11.07  17.00  2.49    0.66  25.36  2.91\n",
       "296     J  24069  43.15  11.79  18.46  2.43    0.67  24.17  3.10\n",
       "297     J  34039  44.55  11.01  16.03  2.43    0.64  25.98  2.92\n",
       "298     J  14044  47.60  10.43  15.18  2.32    0.56  24.47  2.76\n",
       "299     J  14045  46.84   9.91  15.50  2.27    0.57  25.48  2.81\n",
       "\n",
       "[300 rows x 9 columns]"
      ]
     },
     "execution_count": 4,
     "metadata": {},
     "output_type": "execute_result"
    }
   ],
   "source": [
    "# Read data\n",
    "# The data comes from data.world\n",
    "# https://data.world/sdhilip/pizza-datasets\n",
    "pizza = pd.read_csv('../raw_data/Pizza.csv')\n",
    "pizza"
   ]
  },
  {
   "cell_type": "code",
   "execution_count": 39,
   "metadata": {},
   "outputs": [
    {
     "name": "stdout",
     "output_type": "stream",
     "text": [
      "(300, 1)\n",
      "(300, 3)\n"
     ]
    }
   ],
   "source": [
    "# Define variable type\n",
    "y = pizza.loc[:,'cal'].to_frame().to_numpy()\n",
    "X = pizza.loc[:,['prot','fat','carb']].to_numpy()\n",
    "print(y.shape)\n",
    "print(X.shape)"
   ]
  },
  {
   "cell_type": "code",
   "execution_count": 40,
   "metadata": {},
   "outputs": [
    {
     "data": {
      "text/plain": [
       "LinearRegression()"
      ]
     },
     "execution_count": 40,
     "metadata": {},
     "output_type": "execute_result"
    }
   ],
   "source": [
    "# Perform multiple regression\n",
    "regr = linear_model.LinearRegression()\n",
    "regr.fit(X, y) "
   ]
  },
  {
   "cell_type": "code",
   "execution_count": 41,
   "metadata": {},
   "outputs": [
    {
     "name": "stdout",
     "output_type": "stream",
     "text": [
      "coefficient of determination: 0.999306722776401\n"
     ]
    }
   ],
   "source": [
    "# Print the R**2\n",
    "r_sq = regr.score(X, y)\n",
    "print('coefficient of determination:', r_sq)"
   ]
  },
  {
   "cell_type": "code",
   "execution_count": 42,
   "metadata": {},
   "outputs": [
    {
     "name": "stdout",
     "output_type": "stream",
     "text": [
      "[[0.04026828 0.09011502 0.04018057]]\n"
     ]
    }
   ],
   "source": [
    "# Print the regression coefficients\n",
    "print(regr.coef_)\n"
   ]
  },
  {
   "cell_type": "markdown",
   "metadata": {},
   "source": [
    "# Interpretation"
   ]
  },
  {
   "cell_type": "markdown",
   "metadata": {},
   "source": [
    "- For each unit increase of protein, we expect a 0.04 fold increase of calory content, given the other variables are zero\n",
    "- For each unit increase of fat, we expect a 0.09 fold increase of calory content, given the other variables are zero\n",
    "- For each unit increase of carbohydrates, we expect a 0.04 fold increase of calory content, given the other variables are zero"
   ]
  },
  {
   "cell_type": "code",
   "execution_count": null,
   "metadata": {},
   "outputs": [],
   "source": []
  }
 ],
 "metadata": {
  "kernelspec": {
   "display_name": "Python 3",
   "language": "python",
   "name": "python3"
  },
  "language_info": {
   "codemirror_mode": {
    "name": "ipython",
    "version": 3
   },
   "file_extension": ".py",
   "mimetype": "text/x-python",
   "name": "python",
   "nbconvert_exporter": "python",
   "pygments_lexer": "ipython3",
   "version": "3.8.0"
  }
 },
 "nbformat": 4,
 "nbformat_minor": 4
}
