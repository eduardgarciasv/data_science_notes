{
 "cells": [
  {
   "cell_type": "code",
   "execution_count": 2,
   "metadata": {},
   "outputs": [],
   "source": [
    "# Load libraries\n",
    "import pandas as pd\n",
    "from sklearn.preprocessing import StandardScaler\n",
    "from sklearn.decomposition import PCA\n",
    "import numpy as np\n",
    "import seaborn\n",
    "import matplotlib.pyplot as plt"
   ]
  },
  {
   "cell_type": "markdown",
   "metadata": {},
   "source": [
    "# Data exploration"
   ]
  },
  {
   "cell_type": "code",
   "execution_count": 3,
   "metadata": {},
   "outputs": [
    {
     "data": {
      "text/html": [
       "<div>\n",
       "<style scoped>\n",
       "    .dataframe tbody tr th:only-of-type {\n",
       "        vertical-align: middle;\n",
       "    }\n",
       "\n",
       "    .dataframe tbody tr th {\n",
       "        vertical-align: top;\n",
       "    }\n",
       "\n",
       "    .dataframe thead th {\n",
       "        text-align: right;\n",
       "    }\n",
       "</style>\n",
       "<table border=\"1\" class=\"dataframe\">\n",
       "  <thead>\n",
       "    <tr style=\"text-align: right;\">\n",
       "      <th></th>\n",
       "      <th>brand</th>\n",
       "      <th>id</th>\n",
       "      <th>mois</th>\n",
       "      <th>prot</th>\n",
       "      <th>fat</th>\n",
       "      <th>ash</th>\n",
       "      <th>sodium</th>\n",
       "      <th>carb</th>\n",
       "      <th>cal</th>\n",
       "    </tr>\n",
       "  </thead>\n",
       "  <tbody>\n",
       "    <tr>\n",
       "      <th>0</th>\n",
       "      <td>A</td>\n",
       "      <td>14069</td>\n",
       "      <td>27.82</td>\n",
       "      <td>21.43</td>\n",
       "      <td>44.87</td>\n",
       "      <td>5.11</td>\n",
       "      <td>1.77</td>\n",
       "      <td>0.77</td>\n",
       "      <td>4.93</td>\n",
       "    </tr>\n",
       "    <tr>\n",
       "      <th>1</th>\n",
       "      <td>A</td>\n",
       "      <td>14053</td>\n",
       "      <td>28.49</td>\n",
       "      <td>21.26</td>\n",
       "      <td>43.89</td>\n",
       "      <td>5.34</td>\n",
       "      <td>1.79</td>\n",
       "      <td>1.02</td>\n",
       "      <td>4.84</td>\n",
       "    </tr>\n",
       "    <tr>\n",
       "      <th>2</th>\n",
       "      <td>A</td>\n",
       "      <td>14025</td>\n",
       "      <td>28.35</td>\n",
       "      <td>19.99</td>\n",
       "      <td>45.78</td>\n",
       "      <td>5.08</td>\n",
       "      <td>1.63</td>\n",
       "      <td>0.80</td>\n",
       "      <td>4.95</td>\n",
       "    </tr>\n",
       "    <tr>\n",
       "      <th>3</th>\n",
       "      <td>A</td>\n",
       "      <td>14016</td>\n",
       "      <td>30.55</td>\n",
       "      <td>20.15</td>\n",
       "      <td>43.13</td>\n",
       "      <td>4.79</td>\n",
       "      <td>1.61</td>\n",
       "      <td>1.38</td>\n",
       "      <td>4.74</td>\n",
       "    </tr>\n",
       "    <tr>\n",
       "      <th>4</th>\n",
       "      <td>A</td>\n",
       "      <td>14005</td>\n",
       "      <td>30.49</td>\n",
       "      <td>21.28</td>\n",
       "      <td>41.65</td>\n",
       "      <td>4.82</td>\n",
       "      <td>1.64</td>\n",
       "      <td>1.76</td>\n",
       "      <td>4.67</td>\n",
       "    </tr>\n",
       "    <tr>\n",
       "      <th>...</th>\n",
       "      <td>...</td>\n",
       "      <td>...</td>\n",
       "      <td>...</td>\n",
       "      <td>...</td>\n",
       "      <td>...</td>\n",
       "      <td>...</td>\n",
       "      <td>...</td>\n",
       "      <td>...</td>\n",
       "      <td>...</td>\n",
       "    </tr>\n",
       "    <tr>\n",
       "      <th>295</th>\n",
       "      <td>J</td>\n",
       "      <td>34044</td>\n",
       "      <td>44.91</td>\n",
       "      <td>11.07</td>\n",
       "      <td>17.00</td>\n",
       "      <td>2.49</td>\n",
       "      <td>0.66</td>\n",
       "      <td>25.36</td>\n",
       "      <td>2.91</td>\n",
       "    </tr>\n",
       "    <tr>\n",
       "      <th>296</th>\n",
       "      <td>J</td>\n",
       "      <td>24069</td>\n",
       "      <td>43.15</td>\n",
       "      <td>11.79</td>\n",
       "      <td>18.46</td>\n",
       "      <td>2.43</td>\n",
       "      <td>0.67</td>\n",
       "      <td>24.17</td>\n",
       "      <td>3.10</td>\n",
       "    </tr>\n",
       "    <tr>\n",
       "      <th>297</th>\n",
       "      <td>J</td>\n",
       "      <td>34039</td>\n",
       "      <td>44.55</td>\n",
       "      <td>11.01</td>\n",
       "      <td>16.03</td>\n",
       "      <td>2.43</td>\n",
       "      <td>0.64</td>\n",
       "      <td>25.98</td>\n",
       "      <td>2.92</td>\n",
       "    </tr>\n",
       "    <tr>\n",
       "      <th>298</th>\n",
       "      <td>J</td>\n",
       "      <td>14044</td>\n",
       "      <td>47.60</td>\n",
       "      <td>10.43</td>\n",
       "      <td>15.18</td>\n",
       "      <td>2.32</td>\n",
       "      <td>0.56</td>\n",
       "      <td>24.47</td>\n",
       "      <td>2.76</td>\n",
       "    </tr>\n",
       "    <tr>\n",
       "      <th>299</th>\n",
       "      <td>J</td>\n",
       "      <td>14045</td>\n",
       "      <td>46.84</td>\n",
       "      <td>9.91</td>\n",
       "      <td>15.50</td>\n",
       "      <td>2.27</td>\n",
       "      <td>0.57</td>\n",
       "      <td>25.48</td>\n",
       "      <td>2.81</td>\n",
       "    </tr>\n",
       "  </tbody>\n",
       "</table>\n",
       "<p>300 rows × 9 columns</p>\n",
       "</div>"
      ],
      "text/plain": [
       "    brand     id   mois   prot    fat   ash  sodium   carb   cal\n",
       "0       A  14069  27.82  21.43  44.87  5.11    1.77   0.77  4.93\n",
       "1       A  14053  28.49  21.26  43.89  5.34    1.79   1.02  4.84\n",
       "2       A  14025  28.35  19.99  45.78  5.08    1.63   0.80  4.95\n",
       "3       A  14016  30.55  20.15  43.13  4.79    1.61   1.38  4.74\n",
       "4       A  14005  30.49  21.28  41.65  4.82    1.64   1.76  4.67\n",
       "..    ...    ...    ...    ...    ...   ...     ...    ...   ...\n",
       "295     J  34044  44.91  11.07  17.00  2.49    0.66  25.36  2.91\n",
       "296     J  24069  43.15  11.79  18.46  2.43    0.67  24.17  3.10\n",
       "297     J  34039  44.55  11.01  16.03  2.43    0.64  25.98  2.92\n",
       "298     J  14044  47.60  10.43  15.18  2.32    0.56  24.47  2.76\n",
       "299     J  14045  46.84   9.91  15.50  2.27    0.57  25.48  2.81\n",
       "\n",
       "[300 rows x 9 columns]"
      ]
     },
     "execution_count": 3,
     "metadata": {},
     "output_type": "execute_result"
    }
   ],
   "source": [
    "# Load the data\n",
    "# The data comes from data.world\n",
    "# https://data.world/sdhilip/pizza-datasets\n",
    "pizza = pd.read_csv('../raw_data/Pizza.csv')\n",
    "pizza"
   ]
  },
  {
   "cell_type": "code",
   "execution_count": null,
   "metadata": {},
   "outputs": [],
   "source": []
  },
  {
   "cell_type": "code",
   "execution_count": 4,
   "metadata": {},
   "outputs": [
    {
     "name": "stdout",
     "output_type": "stream",
     "text": [
      "<class 'pandas.core.frame.DataFrame'>\n",
      "RangeIndex: 300 entries, 0 to 299\n",
      "Data columns (total 9 columns):\n",
      " #   Column  Non-Null Count  Dtype  \n",
      "---  ------  --------------  -----  \n",
      " 0   brand   300 non-null    object \n",
      " 1   id      300 non-null    int64  \n",
      " 2   mois    300 non-null    float64\n",
      " 3   prot    300 non-null    float64\n",
      " 4   fat     300 non-null    float64\n",
      " 5   ash     300 non-null    float64\n",
      " 6   sodium  300 non-null    float64\n",
      " 7   carb    300 non-null    float64\n",
      " 8   cal     300 non-null    float64\n",
      "dtypes: float64(7), int64(1), object(1)\n",
      "memory usage: 21.2+ KB\n"
     ]
    }
   ],
   "source": [
    "pizza.info()\n",
    "# We see that there is enough data for the analysis\n",
    "# rows > 6 variables*10 subjects"
   ]
  },
  {
   "cell_type": "markdown",
   "metadata": {},
   "source": [
    "# Transform data"
   ]
  },
  {
   "cell_type": "code",
   "execution_count": 50,
   "metadata": {},
   "outputs": [
    {
     "name": "stdout",
     "output_type": "stream",
     "text": [
      "(300, 6)\n",
      "Index(['mois', 'prot', 'fat', 'ash', 'sodium', 'carb'], dtype='object')\n"
     ]
    },
    {
     "data": {
      "text/plain": [
       "(300, 6)"
      ]
     },
     "execution_count": 50,
     "metadata": {},
     "output_type": "execute_result"
    }
   ],
   "source": [
    "# Standardize the feature matrix\n",
    "# for the data to have mean = 0 and variance = 1\n",
    "print(pizza.loc[:,'mois':'carb'].shape) # Original shape\n",
    "print(pizza.loc[:,'mois':'carb'].columns)\n",
    "# We exclude calories because it might represent some of the other variables\n",
    "features = StandardScaler().fit_transform(pizza.loc[:,'mois':'carb'])\n",
    "features.shape"
   ]
  },
  {
   "cell_type": "code",
   "execution_count": 51,
   "metadata": {},
   "outputs": [
    {
     "data": {
      "text/plain": [
       "<matplotlib.collections.PathCollection at 0x7f0f16fec160>"
      ]
     },
     "execution_count": 51,
     "metadata": {},
     "output_type": "execute_result"
    },
    {
     "data": {
      "image/png": "[encoded data removed]",
      "text/plain": [
       "<Figure size 432x288 with 1 Axes>"
      ]
     },
     "metadata": {
      "needs_background": "light"
     },
     "output_type": "display_data"
    }
   ],
   "source": [
    "# Plot the transformed data for the first two columns\n",
    "plt.scatter(features[:, 0], features[:, 1], alpha=0.2)"
   ]
  },
  {
   "cell_type": "code",
   "execution_count": 52,
   "metadata": {},
   "outputs": [
    {
     "data": {
      "text/plain": [
       "<AxesSubplot:>"
      ]
     },
     "execution_count": 52,
     "metadata": {},
     "output_type": "execute_result"
    },
    {
     "data": {
      "image/png": "[encoded data removed]",
      "text/plain": [
       "<Figure size 432x288 with 2 Axes>"
      ]
     },
     "metadata": {
      "needs_background": "light"
     },
     "output_type": "display_data"
    }
   ],
   "source": [
    "# Check the correlations between standardized entries\n",
    "# Mask redundant info (upper diagonal correlations)\n",
    "corr = np.corrcoef(features)\n",
    "mask = np.zeros_like(corr)\n",
    "mask[np.triu_indices_from(mask)] = True\n",
    "seaborn.heatmap(corr, mask=mask, square=True)"
   ]
  },
  {
   "cell_type": "markdown",
   "metadata": {},
   "source": [
    "We see that the standardized data is correlated with each other. Thus, we can proceed with the analysis"
   ]
  },
  {
   "cell_type": "markdown",
   "metadata": {},
   "source": [
    "# Perform PCA"
   ]
  },
  {
   "cell_type": "code",
   "execution_count": 53,
   "metadata": {},
   "outputs": [
    {
     "name": "stdout",
     "output_type": "stream",
     "text": [
      "Original number of features: 6\n",
      "Reduced number of features: 4\n"
     ]
    }
   ],
   "source": [
    "# Create a PCA that will retain 99% of variance\n",
    "pca = PCA(n_components=0.99, whiten=True)\n",
    "# Conduct PCA\n",
    "features_pca = pca.fit_transform(features)\n",
    "# Show results\n",
    "print(\"Original number of features:\", features.shape[1])\n",
    "print(\"Reduced number of features:\", features_pca.shape[1])"
   ]
  },
  {
   "cell_type": "code",
   "execution_count": 54,
   "metadata": {},
   "outputs": [
    {
     "data": {
      "text/plain": [
       "Text(0, 0.5, 'PC2 (24.78 %)')"
      ]
     },
     "execution_count": 54,
     "metadata": {},
     "output_type": "execute_result"
    },
    {
     "data": {
      "image/png": "[encoded data removed]",
      "text/plain": [
       "<Figure size 432x288 with 1 Axes>"
      ]
     },
     "metadata": {
      "needs_background": "light"
     },
     "output_type": "display_data"
    }
   ],
   "source": [
    "# Plot the first two components\n",
    "plt.scatter(features_pca[:, 0], features_pca[:, 1], alpha=0.2)\n",
    "plt.xlabel(f'PC1 ({round(pca.explained_variance_ratio_[0]*100, 2)} %)')\n",
    "plt.ylabel(f'PC2 ({round(pca.explained_variance_ratio_[1]*100, 2)} %)')"
   ]
  },
  {
   "cell_type": "markdown",
   "metadata": {},
   "source": [
    "The first two components explain most of the variance"
   ]
  },
  {
   "cell_type": "markdown",
   "metadata": {},
   "source": [
    "# Interpretation"
   ]
  },
  {
   "cell_type": "code",
   "execution_count": 56,
   "metadata": {},
   "outputs": [
    {
     "data": {
      "text/html": [
       "<div>\n",
       "<style scoped>\n",
       "    .dataframe tbody tr th:only-of-type {\n",
       "        vertical-align: middle;\n",
       "    }\n",
       "\n",
       "    .dataframe tbody tr th {\n",
       "        vertical-align: top;\n",
       "    }\n",
       "\n",
       "    .dataframe thead th {\n",
       "        text-align: right;\n",
       "    }\n",
       "</style>\n",
       "<table border=\"1\" class=\"dataframe\">\n",
       "  <thead>\n",
       "    <tr style=\"text-align: right;\">\n",
       "      <th></th>\n",
       "      <th>mois</th>\n",
       "      <th>prot</th>\n",
       "      <th>fat</th>\n",
       "      <th>ash</th>\n",
       "      <th>sodium</th>\n",
       "      <th>carb</th>\n",
       "    </tr>\n",
       "  </thead>\n",
       "  <tbody>\n",
       "    <tr>\n",
       "      <th>0</th>\n",
       "      <td>-1.371815</td>\n",
       "      <td>1.254181</td>\n",
       "      <td>2.749841</td>\n",
       "      <td>1.953894</td>\n",
       "      <td>2.976687</td>\n",
       "      <td>-1.227511</td>\n",
       "    </tr>\n",
       "    <tr>\n",
       "      <th>1</th>\n",
       "      <td>-1.301562</td>\n",
       "      <td>1.227717</td>\n",
       "      <td>2.640475</td>\n",
       "      <td>2.135338</td>\n",
       "      <td>3.030779</td>\n",
       "      <td>-1.213622</td>\n",
       "    </tr>\n",
       "    <tr>\n",
       "      <th>2</th>\n",
       "      <td>-1.316242</td>\n",
       "      <td>1.030010</td>\n",
       "      <td>2.851396</td>\n",
       "      <td>1.930227</td>\n",
       "      <td>2.598042</td>\n",
       "      <td>-1.225844</td>\n",
       "    </tr>\n",
       "    <tr>\n",
       "      <th>3</th>\n",
       "      <td>-1.085563</td>\n",
       "      <td>1.054918</td>\n",
       "      <td>2.555660</td>\n",
       "      <td>1.701449</td>\n",
       "      <td>2.543950</td>\n",
       "      <td>-1.193622</td>\n",
       "    </tr>\n",
       "    <tr>\n",
       "      <th>4</th>\n",
       "      <td>-1.091854</td>\n",
       "      <td>1.230830</td>\n",
       "      <td>2.390494</td>\n",
       "      <td>1.725116</td>\n",
       "      <td>2.625088</td>\n",
       "      <td>-1.172510</td>\n",
       "    </tr>\n",
       "    <tr>\n",
       "      <th>...</th>\n",
       "      <td>...</td>\n",
       "      <td>...</td>\n",
       "      <td>...</td>\n",
       "      <td>...</td>\n",
       "      <td>...</td>\n",
       "      <td>...</td>\n",
       "    </tr>\n",
       "    <tr>\n",
       "      <th>295</th>\n",
       "      <td>0.420144</td>\n",
       "      <td>-0.358607</td>\n",
       "      <td>-0.360411</td>\n",
       "      <td>-0.112995</td>\n",
       "      <td>-0.025423</td>\n",
       "      <td>0.138627</td>\n",
       "    </tr>\n",
       "    <tr>\n",
       "      <th>296</th>\n",
       "      <td>0.235600</td>\n",
       "      <td>-0.246521</td>\n",
       "      <td>-0.197477</td>\n",
       "      <td>-0.160329</td>\n",
       "      <td>0.001623</td>\n",
       "      <td>0.072514</td>\n",
       "    </tr>\n",
       "    <tr>\n",
       "      <th>297</th>\n",
       "      <td>0.382396</td>\n",
       "      <td>-0.367947</td>\n",
       "      <td>-0.468662</td>\n",
       "      <td>-0.160329</td>\n",
       "      <td>-0.079515</td>\n",
       "      <td>0.173072</td>\n",
       "    </tr>\n",
       "    <tr>\n",
       "      <th>298</th>\n",
       "      <td>0.702202</td>\n",
       "      <td>-0.458238</td>\n",
       "      <td>-0.563521</td>\n",
       "      <td>-0.247106</td>\n",
       "      <td>-0.295884</td>\n",
       "      <td>0.089181</td>\n",
       "    </tr>\n",
       "    <tr>\n",
       "      <th>299</th>\n",
       "      <td>0.622512</td>\n",
       "      <td>-0.539189</td>\n",
       "      <td>-0.527809</td>\n",
       "      <td>-0.286551</td>\n",
       "      <td>-0.268838</td>\n",
       "      <td>0.145294</td>\n",
       "    </tr>\n",
       "  </tbody>\n",
       "</table>\n",
       "<p>300 rows × 6 columns</p>\n",
       "</div>"
      ],
      "text/plain": [
       "         mois      prot       fat       ash    sodium      carb\n",
       "0   -1.371815  1.254181  2.749841  1.953894  2.976687 -1.227511\n",
       "1   -1.301562  1.227717  2.640475  2.135338  3.030779 -1.213622\n",
       "2   -1.316242  1.030010  2.851396  1.930227  2.598042 -1.225844\n",
       "3   -1.085563  1.054918  2.555660  1.701449  2.543950 -1.193622\n",
       "4   -1.091854  1.230830  2.390494  1.725116  2.625088 -1.172510\n",
       "..        ...       ...       ...       ...       ...       ...\n",
       "295  0.420144 -0.358607 -0.360411 -0.112995 -0.025423  0.138627\n",
       "296  0.235600 -0.246521 -0.197477 -0.160329  0.001623  0.072514\n",
       "297  0.382396 -0.367947 -0.468662 -0.160329 -0.079515  0.173072\n",
       "298  0.702202 -0.458238 -0.563521 -0.247106 -0.295884  0.089181\n",
       "299  0.622512 -0.539189 -0.527809 -0.286551 -0.268838  0.145294\n",
       "\n",
       "[300 rows x 6 columns]"
      ]
     },
     "execution_count": 56,
     "metadata": {},
     "output_type": "execute_result"
    }
   ],
   "source": [
    "# To interpret the data we first re-label the centered matrix\n",
    "labeled_features = pd.DataFrame(features)\n",
    "labeled_features.columns = ['mois','prot', 'fat', 'ash', 'sodium', 'carb']\n",
    "labeled_features"
   ]
  },
  {
   "cell_type": "code",
   "execution_count": 57,
   "metadata": {},
   "outputs": [],
   "source": [
    "# Get the loadings matrix & extract the 'PCs'\n",
    "loadings_pca = pca.transform(features)\n",
    "loadings_pca.shape\n",
    "# And we also get the first 2 Principal components in the appropriate shape\n",
    "PC1 = pd.Series(loadings_pca[:, 0]).to_frame()\n",
    "PC2 = pd.Series(loadings_pca[:, 1]).to_frame()\n",
    "PC3 = pd.Series(loadings_pca[:, 2]).to_frame()"
   ]
  },
  {
   "cell_type": "code",
   "execution_count": 58,
   "metadata": {},
   "outputs": [
    {
     "data": {
      "text/html": [
       "<div>\n",
       "<style scoped>\n",
       "    .dataframe tbody tr th:only-of-type {\n",
       "        vertical-align: middle;\n",
       "    }\n",
       "\n",
       "    .dataframe tbody tr th {\n",
       "        vertical-align: top;\n",
       "    }\n",
       "\n",
       "    .dataframe thead th {\n",
       "        text-align: right;\n",
       "    }\n",
       "</style>\n",
       "<table border=\"1\" class=\"dataframe\">\n",
       "  <thead>\n",
       "    <tr style=\"text-align: right;\">\n",
       "      <th></th>\n",
       "      <th>features</th>\n",
       "      <th>PC1</th>\n",
       "      <th>PC2</th>\n",
       "      <th>PC3</th>\n",
       "    </tr>\n",
       "  </thead>\n",
       "  <tbody>\n",
       "    <tr>\n",
       "      <th>0</th>\n",
       "      <td>mois</td>\n",
       "      <td>0.295423</td>\n",
       "      <td>-0.897730</td>\n",
       "      <td>-0.326582</td>\n",
       "    </tr>\n",
       "    <tr>\n",
       "      <th>1</th>\n",
       "      <td>prot</td>\n",
       "      <td>0.829041</td>\n",
       "      <td>-0.298184</td>\n",
       "      <td>0.468610</td>\n",
       "    </tr>\n",
       "    <tr>\n",
       "      <th>2</th>\n",
       "      <td>fat</td>\n",
       "      <td>0.837171</td>\n",
       "      <td>0.503024</td>\n",
       "      <td>-0.097430</td>\n",
       "    </tr>\n",
       "    <tr>\n",
       "      <th>3</th>\n",
       "      <td>ash</td>\n",
       "      <td>0.979216</td>\n",
       "      <td>0.006291</td>\n",
       "      <td>0.048294</td>\n",
       "    </tr>\n",
       "    <tr>\n",
       "      <th>4</th>\n",
       "      <td>sodium</td>\n",
       "      <td>0.827157</td>\n",
       "      <td>0.478594</td>\n",
       "      <td>-0.254018</td>\n",
       "    </tr>\n",
       "    <tr>\n",
       "      <th>5</th>\n",
       "      <td>carb</td>\n",
       "      <td>-0.937851</td>\n",
       "      <td>0.331325</td>\n",
       "      <td>0.050786</td>\n",
       "    </tr>\n",
       "  </tbody>\n",
       "</table>\n",
       "</div>"
      ],
      "text/plain": [
       "  features       PC1       PC2       PC3\n",
       "0     mois  0.295423 -0.897730 -0.326582\n",
       "1     prot  0.829041 -0.298184  0.468610\n",
       "2      fat  0.837171  0.503024 -0.097430\n",
       "3      ash  0.979216  0.006291  0.048294\n",
       "4   sodium  0.827157  0.478594 -0.254018\n",
       "5     carb -0.937851  0.331325  0.050786"
      ]
     },
     "execution_count": 58,
     "metadata": {},
     "output_type": "execute_result"
    }
   ],
   "source": [
    "# We calculate the correlation between the original data and each PC\n",
    "# source: https://online.stat.psu.edu/stat505/lesson/11/11.4\n",
    "# If rowvar is False, each column represents a variable, while the rows contain observations\n",
    "def get_correlations_feature_PC(labeled_features, PC):\n",
    "    correlations = []\n",
    "    for feat in labeled_features:\n",
    "        feat_col = pd.Series(labeled_features.loc[:,feat]).to_frame()\n",
    "        c = np.corrcoef(feat_col.to_numpy(), PC.to_numpy(), rowvar=False)[0,1]\n",
    "        correlations.append(c)\n",
    "    return correlations\n",
    "\n",
    "corr = pd.DataFrame()\n",
    "corr['features'] = list(labeled_features.columns)\n",
    "corr['PC1'] = get_correlations_feature_PC(labeled_features, PC1)\n",
    "corr['PC2'] = get_correlations_feature_PC(labeled_features, PC2)\n",
    "corr['PC3'] = get_correlations_feature_PC(labeled_features, PC3)\n",
    "\n",
    "corr"
   ]
  },
  {
   "cell_type": "markdown",
   "metadata": {},
   "source": [
    "There is factorial complexity. We need a rotation to diminish it (almost all variables load on factor 1)"
   ]
  },
  {
   "cell_type": "markdown",
   "metadata": {},
   "source": [
    "# Varimax rotation"
   ]
  },
  {
   "cell_type": "code",
   "execution_count": 59,
   "metadata": {},
   "outputs": [],
   "source": [
    "# Source: https://stackoverflow.com/questions/17628589/perform-varimax-rotation-in-python-using-numpy\n",
    "def varimax(Phi, gamma = 1, q = 20, tol = 1e-6):\n",
    "    from numpy import eye, asarray, dot, sum, diag\n",
    "    from numpy.linalg import svd\n",
    "    p,k = Phi.shape\n",
    "    R = eye(k)\n",
    "    d=0\n",
    "    for i in range(q):\n",
    "        d_old = d\n",
    "        Lambda = dot(Phi, R)\n",
    "        u,s,vh = svd(dot(Phi.T,asarray(Lambda)**3 - (gamma/p) * dot(Lambda, diag(diag(dot(Lambda.T,Lambda))))))\n",
    "        R = dot(u,vh)\n",
    "        d = sum(s)\n",
    "        #if d/d_old < tol: break\n",
    "    return dot(Phi, R)\n",
    "\n",
    "loadings_pca2 = varimax(loadings_pca)\n"
   ]
  },
  {
   "cell_type": "code",
   "execution_count": 60,
   "metadata": {},
   "outputs": [
    {
     "data": {
      "text/plain": [
       "array([[-0.08128028,  3.0319451 , -0.32821372,  0.25970143],\n",
       "       [-0.13704883,  2.98150715, -0.68952633,  0.85321306],\n",
       "       [ 0.12348325,  2.92970068, -0.01639862, -0.40635046],\n",
       "       ...,\n",
       "       [ 0.24067485, -0.45885128, -0.74626235,  0.58773999],\n",
       "       [ 0.57746621, -0.70795301, -0.61044959,  0.31572953],\n",
       "       [ 0.56212623, -0.6653933 , -0.67712825,  0.22255572]])"
      ]
     },
     "execution_count": 60,
     "metadata": {},
     "output_type": "execute_result"
    }
   ],
   "source": [
    "loadings_pca2"
   ]
  },
  {
   "cell_type": "code",
   "execution_count": 61,
   "metadata": {},
   "outputs": [
    {
     "data": {
      "text/plain": [
       "Text(0, 0.5, 'PC2 (24.78 %)')"
      ]
     },
     "execution_count": 61,
     "metadata": {},
     "output_type": "execute_result"
    },
    {
     "data": {
      "image/png": "[encoded data removed]",
      "text/plain": [
       "<Figure size 432x288 with 1 Axes>"
      ]
     },
     "metadata": {
      "needs_background": "light"
     },
     "output_type": "display_data"
    }
   ],
   "source": [
    "# Plot the first two components\n",
    "plt.scatter(loadings_pca2[:, 0], loadings_pca2[:, 1], alpha=0.2)\n",
    "plt.xlabel(f'PC1 ({round(pca.explained_variance_ratio_[0]*100, 2)} %)')\n",
    "plt.ylabel(f'PC2 ({round(pca.explained_variance_ratio_[1]*100, 2)} %)')"
   ]
  },
  {
   "cell_type": "code",
   "execution_count": 62,
   "metadata": {},
   "outputs": [
    {
     "data": {
      "text/html": [
       "<div>\n",
       "<style scoped>\n",
       "    .dataframe tbody tr th:only-of-type {\n",
       "        vertical-align: middle;\n",
       "    }\n",
       "\n",
       "    .dataframe tbody tr th {\n",
       "        vertical-align: top;\n",
       "    }\n",
       "\n",
       "    .dataframe thead th {\n",
       "        text-align: right;\n",
       "    }\n",
       "</style>\n",
       "<table border=\"1\" class=\"dataframe\">\n",
       "  <thead>\n",
       "    <tr style=\"text-align: right;\">\n",
       "      <th></th>\n",
       "      <th>features</th>\n",
       "      <th>PC1</th>\n",
       "      <th>PC2</th>\n",
       "      <th>PC3</th>\n",
       "    </tr>\n",
       "  </thead>\n",
       "  <tbody>\n",
       "    <tr>\n",
       "      <th>0</th>\n",
       "      <td>mois</td>\n",
       "      <td>0.793239</td>\n",
       "      <td>-0.434017</td>\n",
       "      <td>0.273137</td>\n",
       "    </tr>\n",
       "    <tr>\n",
       "      <th>1</th>\n",
       "      <td>prot</td>\n",
       "      <td>0.229300</td>\n",
       "      <td>0.419492</td>\n",
       "      <td>0.722900</td>\n",
       "    </tr>\n",
       "    <tr>\n",
       "      <th>2</th>\n",
       "      <td>fat</td>\n",
       "      <td>0.296623</td>\n",
       "      <td>0.949177</td>\n",
       "      <td>0.082718</td>\n",
       "    </tr>\n",
       "    <tr>\n",
       "      <th>3</th>\n",
       "      <td>ash</td>\n",
       "      <td>0.421755</td>\n",
       "      <td>0.701243</td>\n",
       "      <td>0.268341</td>\n",
       "    </tr>\n",
       "    <tr>\n",
       "      <th>4</th>\n",
       "      <td>sodium</td>\n",
       "      <td>0.350318</td>\n",
       "      <td>0.901365</td>\n",
       "      <td>-0.163763</td>\n",
       "    </tr>\n",
       "    <tr>\n",
       "      <th>5</th>\n",
       "      <td>carb</td>\n",
       "      <td>-0.679331</td>\n",
       "      <td>-0.441392</td>\n",
       "      <td>-0.462830</td>\n",
       "    </tr>\n",
       "  </tbody>\n",
       "</table>\n",
       "</div>"
      ],
      "text/plain": [
       "  features       PC1       PC2       PC3\n",
       "0     mois  0.793239 -0.434017  0.273137\n",
       "1     prot  0.229300  0.419492  0.722900\n",
       "2      fat  0.296623  0.949177  0.082718\n",
       "3      ash  0.421755  0.701243  0.268341\n",
       "4   sodium  0.350318  0.901365 -0.163763\n",
       "5     carb -0.679331 -0.441392 -0.462830"
      ]
     },
     "execution_count": 62,
     "metadata": {},
     "output_type": "execute_result"
    }
   ],
   "source": [
    "PC1 = pd.Series(loadings_pca2[:, 0]).to_frame()\n",
    "PC2 = pd.Series(loadings_pca2[:, 1]).to_frame()\n",
    "PC3 = pd.Series(loadings_pca2[:, 2]).to_frame()\n",
    "corr2 = pd.DataFrame()\n",
    "corr2['features'] = list(labeled_features.columns)\n",
    "corr2['PC1'] = get_correlations_feature_PC(labeled_features, PC1)\n",
    "corr2['PC2'] = get_correlations_feature_PC(labeled_features, PC2)\n",
    "corr2['PC3'] = get_correlations_feature_PC(labeled_features, PC3)\n",
    "\n",
    "corr2"
   ]
  },
  {
   "cell_type": "markdown",
   "metadata": {},
   "source": [
    "Unfortunately, even after varimax rotation, PC1 and PC2 are factorially complex. Thus, we cannot directly interpret what the principal components are capturing"
   ]
  },
  {
   "cell_type": "code",
   "execution_count": null,
   "metadata": {},
   "outputs": [],
   "source": []
  }
 ],
 "metadata": {
  "kernelspec": {
   "display_name": "Python 3",
   "language": "python",
   "name": "python3"
  },
  "language_info": {
   "codemirror_mode": {
    "name": "ipython",
    "version": 3
   },
   "file_extension": ".py",
   "mimetype": "text/x-python",
   "name": "python",
   "nbconvert_exporter": "python",
   "pygments_lexer": "ipython3",
   "version": "3.8.0"
  }
 },
 "nbformat": 4,
 "nbformat_minor": 4
}
